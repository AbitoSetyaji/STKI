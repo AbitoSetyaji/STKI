{
  "cells": [
    {
      "cell_type": "code",
      "execution_count": null,
      "metadata": {
        "id": "GVQfLk1Qvyfv"
      },
      "outputs": [],
      "source": [
        "!  pip install kaggle"
      ]
    },
    {
      "cell_type": "code",
      "execution_count": null,
      "metadata": {
        "id": "_nbIp4LMs2hi"
      },
      "outputs": [],
      "source": [
        "from google.colab import drive\n",
        "drive.mount('/content/drive')"
      ]
    },
    {
      "cell_type": "code",
      "execution_count": null,
      "metadata": {
        "id": "LLC-PHGhxYCJ"
      },
      "outputs": [],
      "source": [
        "! mkdir ~/.kaggle"
      ]
    },
    {
      "cell_type": "code",
      "execution_count": null,
      "metadata": {
        "id": "qmK-aMhKx4q2"
      },
      "outputs": [],
      "source": [
        "! cp /content/kaggle.json ~/.kaggle/"
      ]
    },
    {
      "cell_type": "code",
      "execution_count": null,
      "metadata": {
        "id": "H4OpGEELyBhw"
      },
      "outputs": [],
      "source": [
        "! chmod 600 ~/.kaggle/kaggle.json"
      ]
    },
    {
      "cell_type": "code",
      "execution_count": null,
      "metadata": {
        "colab": {
          "base_uri": "https://localhost:8080/"
        },
        "id": "uh-VgebVztmo",
        "outputId": "125188d0-8c4d-4df3-b17b-dece5f298de4"
      },
      "outputs": [
        {
          "name": "stdout",
          "output_type": "stream",
          "text": [
            "/content/drive/MyDrive\n"
          ]
        }
      ],
      "source": [
        "cd /content/drive/MyDrive"
      ]
    },
    {
      "cell_type": "code",
      "execution_count": null,
      "metadata": {
        "colab": {
          "base_uri": "https://localhost:8080/"
        },
        "id": "oPiSjBtAzvbQ",
        "outputId": "41f72e21-60c1-4bf1-ea52-e49e210dcdfb"
      },
      "outputs": [
        {
          "name": "stdout",
          "output_type": "stream",
          "text": [
            "/content/drive/MyDrive\n"
          ]
        }
      ],
      "source": [
        "!pwd"
      ]
    },
    {
      "cell_type": "code",
      "execution_count": null,
      "metadata": {
        "colab": {
          "base_uri": "https://localhost:8080/"
        },
        "id": "aTQXSQDdzmBn",
        "outputId": "5750d889-d88f-4745-d9ca-3695148d75ce"
      },
      "outputs": [
        {
          "name": "stdout",
          "output_type": "stream",
          "text": [
            "Dataset URL: https://www.kaggle.com/datasets/dmaso01dsta/cisi-a-dataset-for-information-retrieval\n",
            "License(s): other\n",
            "Downloading cisi-a-dataset-for-information-retrieval.zip to /content/drive/MyDrive\n",
            "  0% 0.00/759k [00:00<?, ?B/s]\n",
            "100% 759k/759k [00:00<00:00, 40.5MB/s]\n"
          ]
        }
      ],
      "source": [
        "#!/bin/bash\n",
        "! kaggle datasets download dmaso01dsta/cisi-a-dataset-for-information-retrieval"
      ]
    },
    {
      "cell_type": "code",
      "execution_count": null,
      "metadata": {
        "colab": {
          "base_uri": "https://localhost:8080/"
        },
        "id": "oBxhTE_w0Bdh",
        "outputId": "eb0fd47f-cf9d-4716-c371-cb0822589b0a"
      },
      "outputs": [
        {
          "name": "stdout",
          "output_type": "stream",
          "text": [
            "Archive:  /content/drive/MyDrive/cisi-a-dataset-for-information-retrieval.zip\n",
            "  inflating: /content/drive/MyDrive/Dataset/CISI.ALL  \n",
            "  inflating: /content/drive/MyDrive/Dataset/CISI.QRY  \n",
            "  inflating: /content/drive/MyDrive/Dataset/CISI.REL  \n"
          ]
        }
      ],
      "source": [
        "!unzip /content/drive/MyDrive/cisi-a-dataset-for-information-retrieval.zip -d /content/drive/MyDrive/Dataset"
      ]
    },
    {
      "cell_type": "markdown",
      "source": [
        "# **Tahap Persiapan Data**"
      ],
      "metadata": {
        "id": "oIgD97XspGjc"
      }
    },
    {
      "cell_type": "markdown",
      "source": [
        "Memuat dataset dan melihat strukturnya."
      ],
      "metadata": {
        "id": "yOQRkn4Q0PH8"
      }
    },
    {
      "cell_type": "code",
      "source": [
        "# Import pustaka yang diperlukan\n",
        "import pandas as pd\n",
        "\n",
        "# Path dataset\n",
        "dataset_path = \"/content/drive/MyDrive/Dataset/cisi_dataset.csv\"\n",
        "\n",
        "# Memuat dataset\n",
        "df = pd.read_csv(dataset_path)\n",
        "\n",
        "# Melihat struktur dataset\n",
        "print(\"Dataset Head:\")\n",
        "print(df.head())\n",
        "print(\"Informasi Dataset:\")\n",
        "print(df.info())\n"
      ],
      "metadata": {
        "colab": {
          "base_uri": "https://localhost:8080/"
        },
        "id": "INSN-Xvko519",
        "outputId": "2e421fed-0729-406a-f5b1-0f19c53e762f"
      },
      "execution_count": 16,
      "outputs": [
        {
          "output_type": "stream",
          "name": "stdout",
          "text": [
            "Dataset Head:\n",
            "   ID_x                                              QUERY  QUERY_ID  DOC_ID  \\\n",
            "0     1   What problems and concerns are there in makin...       1.0    28.0   \n",
            "1     1   What problems and concerns are there in makin...       1.0    35.0   \n",
            "2     1   What problems and concerns are there in makin...       1.0    38.0   \n",
            "3     1   What problems and concerns are there in makin...       1.0    42.0   \n",
            "4     1   What problems and concerns are there in makin...       1.0    43.0   \n",
            "\n",
            "   RELEVANT  ID_y                                               TEXT  \n",
            "0       0.0  28.0   A Note on the Pseudo-Mathematics of Relevance...  \n",
            "1       0.0  35.0   Comparisons of Four Types of Lexical Indicato...  \n",
            "2       0.0  38.0   Machinelike Indexing by People Montgomery, C....  \n",
            "3       0.0  42.0   The Notion of Relevance Hillman, Donald J. .W...  \n",
            "4       0.0  43.0   The Consistency of Human Judgments of Relevan...  \n",
            "Informasi Dataset:\n",
            "<class 'pandas.core.frame.DataFrame'>\n",
            "RangeIndex: 3150 entries, 0 to 3149\n",
            "Data columns (total 7 columns):\n",
            " #   Column    Non-Null Count  Dtype  \n",
            "---  ------    --------------  -----  \n",
            " 0   ID_x      3150 non-null   int64  \n",
            " 1   QUERY     3150 non-null   object \n",
            " 2   QUERY_ID  3114 non-null   float64\n",
            " 3   DOC_ID    3114 non-null   float64\n",
            " 4   RELEVANT  3114 non-null   float64\n",
            " 5   ID_y      3114 non-null   float64\n",
            " 6   TEXT      3114 non-null   object \n",
            "dtypes: float64(4), int64(1), object(2)\n",
            "memory usage: 172.4+ KB\n",
            "None\n"
          ]
        }
      ]
    },
    {
      "cell_type": "markdown",
      "source": [
        "# **Tahap Prapemrosesan Teks**"
      ],
      "metadata": {
        "id": "NKXjCdJJpIQt"
      }
    },
    {
      "cell_type": "markdown",
      "source": [
        "Melakukan tokenisasi, penghapusan stop words, stemming, lemmatization, dan normalisasi teks."
      ],
      "metadata": {
        "id": "0G4Smz720HW8"
      }
    },
    {
      "cell_type": "code",
      "source": [
        "import nltk\n",
        "import string\n",
        "from nltk.corpus import stopwords\n",
        "from nltk.stem import PorterStemmer, WordNetLemmatizer\n",
        "\n",
        "# Mengunduh sumber NLTK jika belum\n",
        "nltk.download('stopwords')\n",
        "nltk.download('punkt')\n",
        "nltk.download('wordnet')\n",
        "\n",
        "# Inisialisasi alat NLTK\n",
        "stop_words = set(stopwords.words('english'))\n",
        "stemmer = PorterStemmer()\n",
        "lemmatizer = WordNetLemmatizer()\n",
        "\n",
        "# Fungsi preprocessing teks\n",
        "def preprocess_text(text):\n",
        "    # Check if the input is a string; if not, convert it to one\n",
        "    if not isinstance(text, str):\n",
        "        text = str(text)  # Convert to string if not already\n",
        "    # Tokenisasi\n",
        "    tokens = nltk.word_tokenize(text.lower())\n",
        "    # Penghapusan stop words dan tanda baca\n",
        "    tokens = [word for word in tokens if word not in stop_words and word not in string.punctuation]\n",
        "    # Stemming dan lemmatization\n",
        "    tokens = [stemmer.stem(lemmatizer.lemmatize(word)) for word in tokens]\n",
        "    return \" \".join(tokens)\n",
        "\n",
        "# Terapkan preprocessing pada kolom teks, ubah 'text' menjadi 'TEXT'\n",
        "# Convert the 'TEXT' column to string type before applying preprocess_text\n",
        "df['processed_text'] = df['TEXT'].astype(str).apply(preprocess_text)\n",
        "\n",
        "# Melihat hasil prapemrosesan\n",
        "print(\"Hasil Prapemrosesan:\")\n",
        "print(df[['TEXT', 'processed_text']].head()) # Changed 'text' to 'TEXT'"
      ],
      "metadata": {
        "colab": {
          "base_uri": "https://localhost:8080/"
        },
        "id": "0pKKeYffpK8U",
        "outputId": "c25a1244-7d70-42fe-be8d-dae9aa0894c3"
      },
      "execution_count": 17,
      "outputs": [
        {
          "output_type": "stream",
          "name": "stderr",
          "text": [
            "[nltk_data] Downloading package stopwords to /root/nltk_data...\n",
            "[nltk_data]   Package stopwords is already up-to-date!\n",
            "[nltk_data] Downloading package punkt to /root/nltk_data...\n",
            "[nltk_data]   Package punkt is already up-to-date!\n",
            "[nltk_data] Downloading package wordnet to /root/nltk_data...\n",
            "[nltk_data]   Package wordnet is already up-to-date!\n"
          ]
        },
        {
          "output_type": "stream",
          "name": "stdout",
          "text": [
            "Hasil Prapemrosesan:\n",
            "                                                TEXT  \\\n",
            "0   A Note on the Pseudo-Mathematics of Relevance...   \n",
            "1   Comparisons of Four Types of Lexical Indicato...   \n",
            "2   Machinelike Indexing by People Montgomery, C....   \n",
            "3   The Notion of Relevance Hillman, Donald J. .W...   \n",
            "4   The Consistency of Human Judgments of Relevan...   \n",
            "\n",
            "                                      processed_text  \n",
            "0  note pseudo-mathemat relev taub m. .w recent n...  \n",
            "1  comparison four type lexic indic content rath ...  \n",
            "2  machinelik index peopl montgomeri c. swanson d...  \n",
            "3  notion relev hillman donald j .w analysi probl...  \n",
            "4  consist human judgment relev resnick a. savag ...  \n"
          ]
        }
      ]
    },
    {
      "cell_type": "markdown",
      "source": [
        "# **Tahap Pembagian Data**"
      ],
      "metadata": {
        "id": "TQbcFlP4qOu1"
      }
    },
    {
      "cell_type": "markdown",
      "source": [
        "Membagi dataset menjadi data pelatihan dan pengujian."
      ],
      "metadata": {
        "id": "cTu4d9i60CI0"
      }
    },
    {
      "cell_type": "code",
      "source": [
        "from sklearn.model_selection import train_test_split\n",
        "\n",
        "# Memisahkan data menjadi training dan testing\n",
        "# Ganti 'title' dengan 'QUERY' karena kemungkinan besar kolom judul/kueri bernama 'QUERY'\n",
        "X_train, X_test, y_train, y_test = train_test_split(\n",
        "    df['processed_text'], df['QUERY'], test_size=0.2, random_state=42\n",
        ")\n",
        "\n",
        "print(\"Jumlah data pelatihan:\", len(X_train))\n",
        "print(\"Jumlah data pengujian:\", len(X_test))"
      ],
      "metadata": {
        "colab": {
          "base_uri": "https://localhost:8080/"
        },
        "id": "TuYAr7pWqRwU",
        "outputId": "7c8293dd-d0b4-400e-de14-5844402991da"
      },
      "execution_count": 18,
      "outputs": [
        {
          "output_type": "stream",
          "name": "stdout",
          "text": [
            "Jumlah data pelatihan: 2520\n",
            "Jumlah data pengujian: 630\n"
          ]
        }
      ]
    },
    {
      "cell_type": "markdown",
      "source": [
        "# **Tahap Penerapan Algoritma Pencarian**"
      ],
      "metadata": {
        "id": "Vx-OaCoPqokc"
      }
    },
    {
      "cell_type": "markdown",
      "source": [
        "Menggunakan TF-IDF untuk transformasi teks menjadi vektor, dan menerapkan cosine similarity untuk pencarian dokumen relevan."
      ],
      "metadata": {
        "id": "vlOHvXgYz81k"
      }
    },
    {
      "cell_type": "code",
      "source": [
        "from sklearn.feature_extraction.text import TfidfVectorizer\n",
        "from sklearn.metrics.pairwise import cosine_similarity\n",
        "\n",
        "# Menggunakan TF-IDF Vectorizer\n",
        "tfidf = TfidfVectorizer()\n",
        "X_train_tfidf = tfidf.fit_transform(X_train)\n",
        "X_test_tfidf = tfidf.transform(X_test)\n",
        "\n",
        "# Fungsi pencarian menggunakan cosine similarity\n",
        "def search(query, vectorizer, doc_vectors):\n",
        "    query_vec = vectorizer.transform([preprocess_text(query)])\n",
        "    similarities = cosine_similarity(query_vec, doc_vectors).flatten()\n",
        "    most_similar_idx = similarities.argsort()[-5:][::-1]\n",
        "    return most_similar_idx, similarities[most_similar_idx]\n",
        "\n",
        "# Contoh pencarian\n",
        "query = \"Information retrieval techniques\"\n",
        "indices, scores = search(query, tfidf, X_train_tfidf)\n",
        "\n",
        "print(\"\\nTop 5 Dokumen Paling Relevan:\")\n",
        "for idx, score in zip(indices, scores):\n",
        "    print(f\"Judul: {y_train.iloc[idx]} | Skor: {score:.4f}\")\n"
      ],
      "metadata": {
        "colab": {
          "base_uri": "https://localhost:8080/"
        },
        "id": "DfOP7He7qqqe",
        "outputId": "ccc4d70c-3767-4d0f-c5b0-d7006fbf1263"
      },
      "execution_count": 12,
      "outputs": [
        {
          "output_type": "stream",
          "name": "stdout",
          "text": [
            "\n",
            "Top 5 Dokumen Paling Relevan:\n",
            "Judul:  How can actually pertinent data, as opposed to references or entire articles themselves, be retrieved automatically in response to information requests? | Skor: 0.1449\n",
            "Judul:  .T The Relational Model in Information Retrieval .A Crawford, R.G. The relational model has received increasing attention during the past decade.  Its advantages include simplicity, consistency, and a sound theoretical basis.  In this article, the naturalness of viewing information retrieval relationally is demonstrated.  The relational model is presented, and the relational organization of a bibliographical database is shown. The notion of normalization is introduced and first, second, third, and fourth normal forms are demonstrated.  Relational languages are discussed, including the relational calculus, relational algebra, and SEQUEL. Numerous examples pertinent to information retrieval are presented in these relational languages.  Advantages of the relational approach to information retrieval are noted. .B (JASIS, Vol. 32, No. 1, January 1981, pp. 51-64) | Skor: 0.1276\n",
            "Judul:  Computerized information retrieval systems.  Computerized indexing systems. | Skor: 0.1276\n",
            "Judul:  What possibilities are there for automatic grammatical and contextual analysis of articles for inclusion in an information retrieval system? | Skor: 0.1276\n",
            "Judul:  Techniques of machine matching and machine searching systems. Coding and matching methods. | Skor: 0.1276\n"
          ]
        }
      ]
    },
    {
      "cell_type": "markdown",
      "source": [
        "# **Tahap Evaluasi Akurasi**"
      ],
      "metadata": {
        "id": "SiHMeSleq11l"
      }
    },
    {
      "cell_type": "markdown",
      "source": [
        "Menggunakan metrik Precision, Recall, dan F1 Score."
      ],
      "metadata": {
        "id": "VfYeTjrWzlZc"
      }
    },
    {
      "cell_type": "code",
      "source": [
        "from sklearn.metrics import precision_score, recall_score, f1_score\n",
        "\n",
        "# Untuk evaluasi lebih terperinci, diperlukan ground truth pada data testing\n",
        "# (Misalnya, apakah dokumen relevan terhadap query)\n",
        "\n",
        "# Dummy contoh label (sesuaikan dengan ground truth di dataset)\n",
        "true_labels = [1, 0, 1, 0, 1]  # 1 untuk relevan, 0 untuk tidak relevan\n",
        "predicted_labels = [1, 0, 1, 1, 0]  # Hasil prediksi\n",
        "\n",
        "# Menghitung metrik\n",
        "precision = precision_score(true_labels, predicted_labels)\n",
        "recall = recall_score(true_labels, predicted_labels)\n",
        "f1 = f1_score(true_labels, predicted_labels)\n",
        "\n",
        "print(f\"Precision: {precision:.4f}\")\n",
        "print(f\"Recall: {recall:.4f}\")\n",
        "print(f\"F1 Score: {f1:.4f}\")\n"
      ],
      "metadata": {
        "colab": {
          "base_uri": "https://localhost:8080/"
        },
        "id": "grQcP9BsqyqN",
        "outputId": "b35100a0-b6de-4384-cd0d-85ee19f40c5d"
      },
      "execution_count": 13,
      "outputs": [
        {
          "output_type": "stream",
          "name": "stdout",
          "text": [
            "Precision: 0.6667\n",
            "Recall: 0.6667\n",
            "F1 Score: 0.6667\n"
          ]
        }
      ]
    },
    {
      "cell_type": "markdown",
      "source": [
        "# **Optimasi Threshold**"
      ],
      "metadata": {
        "id": "d03EMdGyydes"
      }
    },
    {
      "cell_type": "markdown",
      "source": [
        "Untuk klasifikasi biner, coba untuk menyesuaikan threshold dari prediksi probabilitas. Biasanya, model klasifikasi memberikan probabilitas untuk setiap kelas. Dengan mengubah threshold keputusan, Anda bisa mengoptimalkan trade-off antara precision dan recall."
      ],
      "metadata": {
        "id": "D5AMvoEiyrhs"
      }
    },
    {
      "cell_type": "code",
      "source": [
        "from sklearn.metrics import precision_score, recall_score, f1_score\n",
        "from sklearn.model_selection import GridSearchCV\n",
        "from sklearn.svm import SVC\n",
        "\n",
        "# Misalnya, model SVM\n",
        "model = SVC(kernel='linear')\n",
        "\n",
        "# Grid search untuk tuning hyperparameter\n",
        "param_grid = {\n",
        "    'C': [0.1, 1, 10],\n",
        "    'max_iter': [1000, 2000, 5000]\n",
        "}\n",
        "grid_search = GridSearchCV(model, param_grid, cv=5, scoring='f1')\n",
        "# Use shape[0] to get the number of rows in train_tfidf\n",
        "grid_search.fit(train_tfidf, true_labels[:train_tfidf.shape[0]]) # Adjust true_labels length using shape[0]\n",
        "\n",
        "# Menggunakan model terbaik dari grid search\n",
        "best_model = grid_search.best_estimator_\n",
        "\n",
        "# Evaluasi menggunakan data pengujian\n",
        "predicted_labels = best_model.predict(test_tfidf)\n",
        "\n",
        "# Metrik evaluasi\n",
        "# true_labels should have the same length as predicted_labels for evaluation\n",
        "# Use len(predicted_labels) to get the correct length for slicing true_labels\n",
        "precision = precision_score(true_labels[:len(predicted_labels)], predicted_labels) # Adjust true_labels length using len(predicted_labels)\n",
        "recall = recall_score(true_labels[:len(predicted_labels)], predicted_labels) # Adjust true_labels length using len(predicted_labels)\n",
        "f1 = f1_score(true_labels[:len(predicted_labels)], predicted_labels) # Adjust true_labels length using len(predicted_labels)\n",
        "\n",
        "print(f\"Precision: {precision:.4f}\")\n",
        "print(f\"Recall: {recall:.4f}\")\n",
        "print(f\"F1 Score: {f1:.4f}\")"
      ],
      "metadata": {
        "colab": {
          "base_uri": "https://localhost:8080/"
        },
        "id": "8vk6rHAXr4h1",
        "outputId": "2ad89110-9f7a-4ef0-b831-62ddb2f75d8d"
      },
      "execution_count": 33,
      "outputs": [
        {
          "output_type": "stream",
          "name": "stderr",
          "text": [
            "/usr/local/lib/python3.10/dist-packages/sklearn/svm/_base.py:297: ConvergenceWarning: Solver terminated early (max_iter=1000).  Consider pre-processing your data with StandardScaler or MinMaxScaler.\n",
            "  warnings.warn(\n",
            "/usr/local/lib/python3.10/dist-packages/sklearn/svm/_base.py:297: ConvergenceWarning: Solver terminated early (max_iter=1000).  Consider pre-processing your data with StandardScaler or MinMaxScaler.\n",
            "  warnings.warn(\n",
            "/usr/local/lib/python3.10/dist-packages/sklearn/svm/_base.py:297: ConvergenceWarning: Solver terminated early (max_iter=1000).  Consider pre-processing your data with StandardScaler or MinMaxScaler.\n",
            "  warnings.warn(\n",
            "/usr/local/lib/python3.10/dist-packages/sklearn/svm/_base.py:297: ConvergenceWarning: Solver terminated early (max_iter=1000).  Consider pre-processing your data with StandardScaler or MinMaxScaler.\n",
            "  warnings.warn(\n",
            "/usr/local/lib/python3.10/dist-packages/sklearn/svm/_base.py:297: ConvergenceWarning: Solver terminated early (max_iter=1000).  Consider pre-processing your data with StandardScaler or MinMaxScaler.\n",
            "  warnings.warn(\n",
            "/usr/local/lib/python3.10/dist-packages/sklearn/svm/_base.py:297: ConvergenceWarning: Solver terminated early (max_iter=1000).  Consider pre-processing your data with StandardScaler or MinMaxScaler.\n",
            "  warnings.warn(\n",
            "/usr/local/lib/python3.10/dist-packages/sklearn/svm/_base.py:297: ConvergenceWarning: Solver terminated early (max_iter=1000).  Consider pre-processing your data with StandardScaler or MinMaxScaler.\n",
            "  warnings.warn(\n",
            "/usr/local/lib/python3.10/dist-packages/sklearn/svm/_base.py:297: ConvergenceWarning: Solver terminated early (max_iter=1000).  Consider pre-processing your data with StandardScaler or MinMaxScaler.\n",
            "  warnings.warn(\n",
            "/usr/local/lib/python3.10/dist-packages/sklearn/svm/_base.py:297: ConvergenceWarning: Solver terminated early (max_iter=1000).  Consider pre-processing your data with StandardScaler or MinMaxScaler.\n",
            "  warnings.warn(\n",
            "/usr/local/lib/python3.10/dist-packages/sklearn/svm/_base.py:297: ConvergenceWarning: Solver terminated early (max_iter=1000).  Consider pre-processing your data with StandardScaler or MinMaxScaler.\n",
            "  warnings.warn(\n",
            "/usr/local/lib/python3.10/dist-packages/sklearn/svm/_base.py:297: ConvergenceWarning: Solver terminated early (max_iter=2000).  Consider pre-processing your data with StandardScaler or MinMaxScaler.\n",
            "  warnings.warn(\n",
            "/usr/local/lib/python3.10/dist-packages/sklearn/svm/_base.py:297: ConvergenceWarning: Solver terminated early (max_iter=2000).  Consider pre-processing your data with StandardScaler or MinMaxScaler.\n",
            "  warnings.warn(\n",
            "/usr/local/lib/python3.10/dist-packages/sklearn/svm/_base.py:297: ConvergenceWarning: Solver terminated early (max_iter=2000).  Consider pre-processing your data with StandardScaler or MinMaxScaler.\n",
            "  warnings.warn(\n",
            "/usr/local/lib/python3.10/dist-packages/sklearn/svm/_base.py:297: ConvergenceWarning: Solver terminated early (max_iter=2000).  Consider pre-processing your data with StandardScaler or MinMaxScaler.\n",
            "  warnings.warn(\n",
            "/usr/local/lib/python3.10/dist-packages/sklearn/svm/_base.py:297: ConvergenceWarning: Solver terminated early (max_iter=2000).  Consider pre-processing your data with StandardScaler or MinMaxScaler.\n",
            "  warnings.warn(\n",
            "/usr/local/lib/python3.10/dist-packages/sklearn/svm/_base.py:297: ConvergenceWarning: Solver terminated early (max_iter=1000).  Consider pre-processing your data with StandardScaler or MinMaxScaler.\n",
            "  warnings.warn(\n",
            "/usr/local/lib/python3.10/dist-packages/sklearn/svm/_base.py:297: ConvergenceWarning: Solver terminated early (max_iter=1000).  Consider pre-processing your data with StandardScaler or MinMaxScaler.\n",
            "  warnings.warn(\n",
            "/usr/local/lib/python3.10/dist-packages/sklearn/svm/_base.py:297: ConvergenceWarning: Solver terminated early (max_iter=1000).  Consider pre-processing your data with StandardScaler or MinMaxScaler.\n",
            "  warnings.warn(\n",
            "/usr/local/lib/python3.10/dist-packages/sklearn/svm/_base.py:297: ConvergenceWarning: Solver terminated early (max_iter=1000).  Consider pre-processing your data with StandardScaler or MinMaxScaler.\n",
            "  warnings.warn(\n",
            "/usr/local/lib/python3.10/dist-packages/sklearn/svm/_base.py:297: ConvergenceWarning: Solver terminated early (max_iter=1000).  Consider pre-processing your data with StandardScaler or MinMaxScaler.\n",
            "  warnings.warn(\n",
            "/usr/local/lib/python3.10/dist-packages/sklearn/svm/_base.py:297: ConvergenceWarning: Solver terminated early (max_iter=2000).  Consider pre-processing your data with StandardScaler or MinMaxScaler.\n",
            "  warnings.warn(\n",
            "/usr/local/lib/python3.10/dist-packages/sklearn/svm/_base.py:297: ConvergenceWarning: Solver terminated early (max_iter=2000).  Consider pre-processing your data with StandardScaler or MinMaxScaler.\n",
            "  warnings.warn(\n",
            "/usr/local/lib/python3.10/dist-packages/sklearn/svm/_base.py:297: ConvergenceWarning: Solver terminated early (max_iter=2000).  Consider pre-processing your data with StandardScaler or MinMaxScaler.\n",
            "  warnings.warn(\n",
            "/usr/local/lib/python3.10/dist-packages/sklearn/svm/_base.py:297: ConvergenceWarning: Solver terminated early (max_iter=2000).  Consider pre-processing your data with StandardScaler or MinMaxScaler.\n",
            "  warnings.warn(\n",
            "/usr/local/lib/python3.10/dist-packages/sklearn/svm/_base.py:297: ConvergenceWarning: Solver terminated early (max_iter=2000).  Consider pre-processing your data with StandardScaler or MinMaxScaler.\n",
            "  warnings.warn(\n",
            "/usr/local/lib/python3.10/dist-packages/sklearn/svm/_base.py:297: ConvergenceWarning: Solver terminated early (max_iter=5000).  Consider pre-processing your data with StandardScaler or MinMaxScaler.\n",
            "  warnings.warn(\n",
            "/usr/local/lib/python3.10/dist-packages/sklearn/svm/_base.py:297: ConvergenceWarning: Solver terminated early (max_iter=5000).  Consider pre-processing your data with StandardScaler or MinMaxScaler.\n",
            "  warnings.warn(\n",
            "/usr/local/lib/python3.10/dist-packages/sklearn/svm/_base.py:297: ConvergenceWarning: Solver terminated early (max_iter=5000).  Consider pre-processing your data with StandardScaler or MinMaxScaler.\n",
            "  warnings.warn(\n",
            "/usr/local/lib/python3.10/dist-packages/sklearn/svm/_base.py:297: ConvergenceWarning: Solver terminated early (max_iter=5000).  Consider pre-processing your data with StandardScaler or MinMaxScaler.\n",
            "  warnings.warn(\n",
            "/usr/local/lib/python3.10/dist-packages/sklearn/svm/_base.py:297: ConvergenceWarning: Solver terminated early (max_iter=5000).  Consider pre-processing your data with StandardScaler or MinMaxScaler.\n",
            "  warnings.warn(\n",
            "/usr/local/lib/python3.10/dist-packages/sklearn/svm/_base.py:297: ConvergenceWarning: Solver terminated early (max_iter=1000).  Consider pre-processing your data with StandardScaler or MinMaxScaler.\n",
            "  warnings.warn(\n"
          ]
        },
        {
          "output_type": "stream",
          "name": "stdout",
          "text": [
            "Precision: 1.0000\n",
            "Recall: 1.0000\n",
            "F1 Score: 1.0000\n"
          ]
        }
      ]
    },
    {
      "cell_type": "markdown",
      "source": [
        "# **Tahap Analisis dan Kesimpulan**"
      ],
      "metadata": {
        "id": "99E0LoVfzeLM"
      }
    },
    {
      "cell_type": "markdown",
      "source": [
        "Menampilkan hasil evaluasi dalam bentuk tabel atau grafik."
      ],
      "metadata": {
        "id": "E0L6psHxzHsT"
      }
    },
    {
      "cell_type": "code",
      "source": [
        "import matplotlib.pyplot as plt\n",
        "\n",
        "# Contoh visualisasi metrik\n",
        "metrics = ['Precision', 'Recall', 'F1 Score']\n",
        "values = [precision, recall, f1]\n",
        "\n",
        "plt.bar(metrics, values, color=['blue', 'orange', 'green'])\n",
        "plt.title(\"Evaluasi Akurasi Sistem Pencarian\")\n",
        "plt.ylabel(\"Skor\")\n",
        "plt.show()\n"
      ],
      "metadata": {
        "colab": {
          "base_uri": "https://localhost:8080/",
          "height": 452
        },
        "id": "qe9grhCbzCas",
        "outputId": "65848814-88c7-41bf-dc2b-365e0735f379"
      },
      "execution_count": 35,
      "outputs": [
        {
          "output_type": "display_data",
          "data": {
            "text/plain": [
              "<Figure size 640x480 with 1 Axes>"
            ],
            "image/png": "[encoded data removed]"
          },
          "metadata": {}
        }
      ]
    }
  ],
  "metadata": {
    "colab": {
      "provenance": []
    },
    "kernelspec": {
      "display_name": "Python 3",
      "name": "python3"
    },
    "language_info": {
      "name": "python"
    }
  },
  "nbformat": 4,
  "nbformat_minor": 0
}